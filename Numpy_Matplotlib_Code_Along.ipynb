{
 "cells": [
  {
   "cell_type": "markdown",
   "metadata": {
    "toc": true
   },
   "source": [
    "<h1>Table of Contents<span class=\"tocSkip\"></span></h1>\n",
    "<div class=\"toc\"><ul class=\"toc-item\"><li><span><a href=\"#Numpy-Basics\" data-toc-modified-id=\"Numpy-Basics-1\"><span class=\"toc-item-num\">1&nbsp;&nbsp;</span>Numpy Basics</a></span><ul class=\"toc-item\"><li><span><a href=\"#Creating-numpy-arrays\" data-toc-modified-id=\"Creating-numpy-arrays-1.1\"><span class=\"toc-item-num\">1.1&nbsp;&nbsp;</span>Creating numpy arrays</a></span><ul class=\"toc-item\"><li><span><a href=\"#Casting-from-python-lists\" data-toc-modified-id=\"Casting-from-python-lists-1.1.1\"><span class=\"toc-item-num\">1.1.1&nbsp;&nbsp;</span>Casting from python lists</a></span></li><li><span><a href=\"#Using-built-in-numpy-functions\" data-toc-modified-id=\"Using-built-in-numpy-functions-1.1.2\"><span class=\"toc-item-num\">1.1.2&nbsp;&nbsp;</span>Using built-in numpy functions</a></span></li><li><span><a href=\"#Reading-from-a-file\" data-toc-modified-id=\"Reading-from-a-file-1.1.3\"><span class=\"toc-item-num\">1.1.3&nbsp;&nbsp;</span>Reading from a file</a></span></li></ul></li><li><span><a href=\"#Methods-and-attributes-of-numpy-arrays\" data-toc-modified-id=\"Methods-and-attributes-of-numpy-arrays-1.2\"><span class=\"toc-item-num\">1.2&nbsp;&nbsp;</span>Methods and attributes of numpy arrays</a></span></li><li><span><a href=\"#Indexing-and-selection-of-numpy-arrays\" data-toc-modified-id=\"Indexing-and-selection-of-numpy-arrays-1.3\"><span class=\"toc-item-num\">1.3&nbsp;&nbsp;</span>Indexing and selection of numpy arrays</a></span><ul class=\"toc-item\"><li><span><a href=\"#Indexing-1D-arrays\" data-toc-modified-id=\"Indexing-1D-arrays-1.3.1\"><span class=\"toc-item-num\">1.3.1&nbsp;&nbsp;</span>Indexing 1D arrays</a></span></li><li><span><a href=\"#Indexing-ND-arrays\" data-toc-modified-id=\"Indexing-ND-arrays-1.3.2\"><span class=\"toc-item-num\">1.3.2&nbsp;&nbsp;</span>Indexing ND arrays</a></span></li><li><span><a href=\"#Conditional-selection\" data-toc-modified-id=\"Conditional-selection-1.3.3\"><span class=\"toc-item-num\">1.3.3&nbsp;&nbsp;</span>Conditional selection</a></span></li></ul></li><li><span><a href=\"#Operations-on-numpy-arrays\" data-toc-modified-id=\"Operations-on-numpy-arrays-1.4\"><span class=\"toc-item-num\">1.4&nbsp;&nbsp;</span>Operations on numpy arrays</a></span><ul class=\"toc-item\"><li><span><a href=\"#Scalar-array-operations\" data-toc-modified-id=\"Scalar-array-operations-1.4.1\"><span class=\"toc-item-num\">1.4.1&nbsp;&nbsp;</span>Scalar-array operations</a></span></li><li><span><a href=\"#Array-array-operations\" data-toc-modified-id=\"Array-array-operations-1.4.2\"><span class=\"toc-item-num\">1.4.2&nbsp;&nbsp;</span>Array-array operations</a></span></li><li><span><a href=\"#Universal-functions\" data-toc-modified-id=\"Universal-functions-1.4.3\"><span class=\"toc-item-num\">1.4.3&nbsp;&nbsp;</span>Universal functions</a></span></li></ul></li><li><span><a href=\"#Exercise:-OLS-Regression-with-numpy\" data-toc-modified-id=\"Exercise:-OLS-Regression-with-numpy-1.5\"><span class=\"toc-item-num\">1.5&nbsp;&nbsp;</span>Exercise: OLS Regression with numpy</a></span></li></ul></li><li><span><a href=\"#Plotting-basics\" data-toc-modified-id=\"Plotting-basics-2\"><span class=\"toc-item-num\">2&nbsp;&nbsp;</span>Plotting basics</a></span><ul class=\"toc-item\"><li><span><a href=\"#Matplotlib-plots\" data-toc-modified-id=\"Matplotlib-plots-2.1\"><span class=\"toc-item-num\">2.1&nbsp;&nbsp;</span>Matplotlib plots</a></span><ul class=\"toc-item\"><li><span><a href=\"#Single-plots\" data-toc-modified-id=\"Single-plots-2.1.1\"><span class=\"toc-item-num\">2.1.1&nbsp;&nbsp;</span>Single plots</a></span><ul class=\"toc-item\"><li><span><a href=\"#Functional-method\" data-toc-modified-id=\"Functional-method-2.1.1.1\"><span class=\"toc-item-num\">2.1.1.1&nbsp;&nbsp;</span>Functional method</a></span></li><li><span><a href=\"#Object-oriented-(OO)-method\" data-toc-modified-id=\"Object-oriented-(OO)-method-2.1.1.2\"><span class=\"toc-item-num\">2.1.1.2&nbsp;&nbsp;</span>Object-oriented (OO) method</a></span></li></ul></li><li><span><a href=\"#Multiple-plots\" data-toc-modified-id=\"Multiple-plots-2.1.2\"><span class=\"toc-item-num\">2.1.2&nbsp;&nbsp;</span>Multiple plots</a></span></li></ul></li><li><span><a href=\"#Seaborn-plots\" data-toc-modified-id=\"Seaborn-plots-2.2\"><span class=\"toc-item-num\">2.2&nbsp;&nbsp;</span>Seaborn plots</a></span><ul class=\"toc-item\"><li><span><a href=\"#Heatplots\" data-toc-modified-id=\"Heatplots-2.2.1\"><span class=\"toc-item-num\">2.2.1&nbsp;&nbsp;</span>Heatplots</a></span></li><li><span><a href=\"#Distribution-plots\" data-toc-modified-id=\"Distribution-plots-2.2.2\"><span class=\"toc-item-num\">2.2.2&nbsp;&nbsp;</span>Distribution plots</a></span></li></ul></li></ul></li><li><span><a href=\"#Final-exercise:-PCA\" data-toc-modified-id=\"Final-exercise:-PCA-3\"><span class=\"toc-item-num\">3&nbsp;&nbsp;</span>Final exercise: PCA</a></span></li></ul></div>"
   ]
  },
  {
   "cell_type": "code",
   "execution_count": 1,
   "metadata": {},
   "outputs": [],
   "source": [
    "import numpy as np\n",
    "import matplotlib.pyplot as plt\n",
    "import seaborn as sns\n",
    "\n",
    "np.set_printoptions(suppress=True)"
   ]
  },
  {
   "cell_type": "markdown",
   "metadata": {},
   "source": [
    "# Numpy Basics"
   ]
  },
  {
   "cell_type": "markdown",
   "metadata": {},
   "source": [
    "<p>NumPy is Python's most used library for efficient numerical computations. At the core of numpy lies the N-dimensional array data structure (also called a numpy array).</p>\n",
    "\n",
    "<p>An array is defined by the <strong>type</strong> of elements it contains and its <strong>shape</strong>. For instance, a matrix may be represented as an array of shape (<em>N</em> x <em>M</em>). Note, that numpy arrays can have arbirary shape (<em>Dim1</em>, <em>Dim2</em>, <em>Dim3</em>,...).</p> \n",
    "\n",
    "![Matrix Multiplication Memo](http://pages.physics.cornell.edu/~myers/teaching/ComputationalMethods/python/anatomyarray.png)\n",
    "\n",
    "\n",
    "<p>Besides being a convenient data container, numpy arrays provide an interface to many <strong>vectorized</strong> operations, implemented in native C code. Vectorization in interpreted languages is a means to speed up repetitive computations (elementwise operations, etc.). Thus, vectorization saves your time and makes you more productive!</p>\n",
    "\n",
    "<p>For more information about the nuts and bolts of numpy, check out the very well writte numpy documentation:</p>\n",
    "https://docs.scipy.org/doc/numpy/user/quickstart.html\n",
    "\n",
    "<p>Also, check out this very informative tutorial paper:</p>\n",
    "https://arxiv.org/pdf/1102.1523.pdf\n",
    "\n",
    "<p>Now, let's get some hands-on experience with numpy arrays!</p> "
   ]
  },
  {
   "cell_type": "markdown",
   "metadata": {},
   "source": [
    "## Creating numpy arrays"
   ]
  },
  {
   "cell_type": "markdown",
   "metadata": {},
   "source": [
    "### Casting from python lists"
   ]
  },
  {
   "cell_type": "code",
   "execution_count": null,
   "metadata": {},
   "outputs": [],
   "source": [
    "# 1D"
   ]
  },
  {
   "cell_type": "code",
   "execution_count": null,
   "metadata": {},
   "outputs": [],
   "source": []
  },
  {
   "cell_type": "code",
   "execution_count": 15,
   "metadata": {},
   "outputs": [],
   "source": [
    "# 2D"
   ]
  },
  {
   "cell_type": "code",
   "execution_count": null,
   "metadata": {},
   "outputs": [],
   "source": []
  },
  {
   "cell_type": "code",
   "execution_count": 40,
   "metadata": {},
   "outputs": [
    {
     "data": {
      "text/plain": [
       "array([ 0,  3,  6,  9, 12, 15, 18])"
      ]
     },
     "execution_count": 40,
     "metadata": {},
     "output_type": "execute_result"
    }
   ],
   "source": [
    "# Could also do it with a list comprehesion\n",
    "# What will this code give us?\n",
    "#np.array([i for i in range(20) if i % 3 == 0])"
   ]
  },
  {
   "cell_type": "code",
   "execution_count": 1,
   "metadata": {},
   "outputs": [],
   "source": [
    "# Note the double bracket :)"
   ]
  },
  {
   "cell_type": "markdown",
   "metadata": {},
   "source": [
    "### Using built-in numpy functions"
   ]
  },
  {
   "cell_type": "code",
   "execution_count": 2,
   "metadata": {},
   "outputs": [],
   "source": [
    "# Numbers in a given range (from:to:step)"
   ]
  },
  {
   "cell_type": "code",
   "execution_count": 3,
   "metadata": {},
   "outputs": [],
   "source": [
    "# Linearly spaced items"
   ]
  },
  {
   "cell_type": "code",
   "execution_count": 4,
   "metadata": {},
   "outputs": [],
   "source": [
    "# Array of zeros"
   ]
  },
  {
   "cell_type": "code",
   "execution_count": 5,
   "metadata": {},
   "outputs": [],
   "source": [
    "# Matrix of zeros"
   ]
  },
  {
   "cell_type": "code",
   "execution_count": 6,
   "metadata": {},
   "outputs": [],
   "source": [
    "# Identity matrix"
   ]
  },
  {
   "cell_type": "code",
   "execution_count": 7,
   "metadata": {},
   "outputs": [],
   "source": [
    "# Random uniform numbers [0 - 1]"
   ]
  },
  {
   "cell_type": "code",
   "execution_count": 8,
   "metadata": {},
   "outputs": [],
   "source": [
    "# Standard normal distribution"
   ]
  },
  {
   "cell_type": "code",
   "execution_count": 9,
   "metadata": {},
   "outputs": [],
   "source": [
    "# Random integers (low - high, high is exclusive)"
   ]
  },
  {
   "cell_type": "markdown",
   "metadata": {},
   "source": [
    "### Reading from a file"
   ]
  },
  {
   "cell_type": "code",
   "execution_count": 10,
   "metadata": {},
   "outputs": [],
   "source": [
    "# Create a random matrix\n",
    "\n",
    "# Save compressed\n",
    "\n",
    "# Save uncompressed\n"
   ]
  },
  {
   "cell_type": "code",
   "execution_count": 11,
   "metadata": {},
   "outputs": [],
   "source": [
    "# Load from a compressed array"
   ]
  },
  {
   "cell_type": "code",
   "execution_count": 12,
   "metadata": {},
   "outputs": [],
   "source": [
    "# Load from a text file"
   ]
  },
  {
   "cell_type": "markdown",
   "metadata": {},
   "source": [
    "## Methods and attributes of numpy arrays"
   ]
  },
  {
   "cell_type": "code",
   "execution_count": null,
   "metadata": {},
   "outputs": [],
   "source": []
  },
  {
   "cell_type": "code",
   "execution_count": null,
   "metadata": {},
   "outputs": [],
   "source": []
  },
  {
   "cell_type": "code",
   "execution_count": 13,
   "metadata": {},
   "outputs": [],
   "source": [
    "# Figuring out the shape\n"
   ]
  },
  {
   "cell_type": "code",
   "execution_count": 14,
   "metadata": {},
   "outputs": [],
   "source": [
    "# Figuring out the type of data"
   ]
  },
  {
   "cell_type": "code",
   "execution_count": 15,
   "metadata": {},
   "outputs": [],
   "source": [
    "# Reshape array\n",
    "\n",
    "# Will get an error, if you can't fill the reshaped array!"
   ]
  },
  {
   "cell_type": "code",
   "execution_count": 16,
   "metadata": {},
   "outputs": [],
   "source": [
    "# Make sure shape is the way it should be"
   ]
  },
  {
   "cell_type": "code",
   "execution_count": 17,
   "metadata": {},
   "outputs": [],
   "source": [
    "# Transpose array"
   ]
  },
  {
   "cell_type": "code",
   "execution_count": 89,
   "metadata": {},
   "outputs": [
    {
     "name": "stdout",
     "output_type": "stream",
     "text": [
      "Minimum value:  14\n",
      "Maximum value:  92\n",
      "Index of minimum value:  2\n",
      "Index of maximum value:  1\n",
      "----------------------------\n",
      "Minimum value:  14\n",
      "Maximum value:  92\n",
      "Index of minimum value:  2\n",
      "Index of maximum value:  1\n"
     ]
    }
   ],
   "source": [
    "# Find min, max, argmax, argmin, mean, std, etc...\n",
    "print('Minimum value: ', arr.min())\n",
    "print('Maximum value: ', arr.max())\n",
    "print('Index of minimum value: ', arr.argmin())\n",
    "print('Index of maximum value: ', arr.argmax())\n",
    "\n",
    "print('----------------------------')\n",
    "\n",
    "# Alternatively, you could use the \"functional grammer\" of numpy\n",
    "print('Minimum value: ', np.min(arr))\n",
    "print('Maximum value: ', np.max(arr))\n",
    "print('Index of minimum value: ', np.argmin(arr))\n",
    "print('Index of maximum value: ', np.argmax(arr))"
   ]
  },
  {
   "cell_type": "code",
   "execution_count": 94,
   "metadata": {},
   "outputs": [],
   "source": [
    "# How about nd arrays? (axis)\n"
   ]
  },
  {
   "cell_type": "markdown",
   "metadata": {},
   "source": [
    "## Indexing and selection of numpy arrays"
   ]
  },
  {
   "cell_type": "markdown",
   "metadata": {},
   "source": [
    "### Indexing 1D arrays"
   ]
  },
  {
   "cell_type": "code",
   "execution_count": 18,
   "metadata": {},
   "outputs": [],
   "source": [
    "# 1D "
   ]
  },
  {
   "cell_type": "code",
   "execution_count": null,
   "metadata": {},
   "outputs": [],
   "source": []
  },
  {
   "cell_type": "code",
   "execution_count": 19,
   "metadata": {},
   "outputs": [],
   "source": [
    "# Indexing a single number"
   ]
  },
  {
   "cell_type": "code",
   "execution_count": 20,
   "metadata": {},
   "outputs": [],
   "source": [
    "# Indexing a range of numbers (similar to slicing python lists)"
   ]
  },
  {
   "cell_type": "code",
   "execution_count": 21,
   "metadata": {},
   "outputs": [],
   "source": [
    "# from index (inclusive) "
   ]
  },
  {
   "cell_type": "code",
   "execution_count": 22,
   "metadata": {},
   "outputs": [],
   "source": [
    "# Assign a slice to a variable"
   ]
  },
  {
   "cell_type": "code",
   "execution_count": null,
   "metadata": {},
   "outputs": [],
   "source": []
  },
  {
   "cell_type": "code",
   "execution_count": 23,
   "metadata": {},
   "outputs": [],
   "source": [
    "# Change all elements\n",
    "# Also called broadcasting (since under the hood, 999 is cast to [999, 999, ...])"
   ]
  },
  {
   "cell_type": "code",
   "execution_count": 24,
   "metadata": {},
   "outputs": [],
   "source": [
    "# Ensure slice is changed"
   ]
  },
  {
   "cell_type": "code",
   "execution_count": 25,
   "metadata": {},
   "outputs": [],
   "source": [
    "# Oops, original array also changed. Slices are not copies! They are just different views of the same memory!"
   ]
  },
  {
   "cell_type": "code",
   "execution_count": 26,
   "metadata": {},
   "outputs": [],
   "source": [
    "# Here is how to create a copy"
   ]
  },
  {
   "cell_type": "code",
   "execution_count": null,
   "metadata": {},
   "outputs": [],
   "source": []
  },
  {
   "cell_type": "markdown",
   "metadata": {},
   "source": [
    "### Indexing ND arrays"
   ]
  },
  {
   "cell_type": "code",
   "execution_count": 126,
   "metadata": {},
   "outputs": [],
   "source": []
  },
  {
   "cell_type": "code",
   "execution_count": null,
   "metadata": {},
   "outputs": [],
   "source": []
  },
  {
   "cell_type": "code",
   "execution_count": 27,
   "metadata": {},
   "outputs": [],
   "source": [
    "# Single element\n"
   ]
  },
  {
   "cell_type": "code",
   "execution_count": 28,
   "metadata": {},
   "outputs": [],
   "source": [
    "# Single row\n"
   ]
  },
  {
   "cell_type": "code",
   "execution_count": 29,
   "metadata": {},
   "outputs": [],
   "source": [
    "# Single column\n"
   ]
  },
  {
   "cell_type": "code",
   "execution_count": 30,
   "metadata": {},
   "outputs": [],
   "source": [
    "# Multiple consecutive columns"
   ]
  },
  {
   "cell_type": "code",
   "execution_count": 31,
   "metadata": {},
   "outputs": [],
   "source": [
    "# Arbitrary columns\n"
   ]
  },
  {
   "cell_type": "code",
   "execution_count": 32,
   "metadata": {},
   "outputs": [],
   "source": [
    "# Arbitrary rectangles\n"
   ]
  },
  {
   "cell_type": "markdown",
   "metadata": {},
   "source": [
    "### Conditional selection"
   ]
  },
  {
   "cell_type": "code",
   "execution_count": null,
   "metadata": {},
   "outputs": [],
   "source": []
  },
  {
   "cell_type": "code",
   "execution_count": null,
   "metadata": {},
   "outputs": [],
   "source": []
  },
  {
   "cell_type": "code",
   "execution_count": 33,
   "metadata": {},
   "outputs": [],
   "source": [
    "# Create a boolean array (array of True and False)\n"
   ]
  },
  {
   "cell_type": "code",
   "execution_count": 34,
   "metadata": {},
   "outputs": [],
   "source": [
    "# Index with a boolen array (keep only elements whose index corresponds to True)\n"
   ]
  },
  {
   "cell_type": "markdown",
   "metadata": {},
   "source": [
    "<p><strong>Time for a short exercise!</strong></p>\n",
    "\n",
    "Suppose you have a matrix which contains the response times of 50 participants, where each row represents an individual participant.\n",
    "Your data contains missing values, coded as '999' by your student assistant. Your want to take a quick look at the data by:\n",
    "\n",
    "1. Loading the file \"rt_missing.npy\"\n",
    "2. Replacing all 999 values with the value np.nan\n",
    "3. Computing the mean and variance of the the response times for each participant<br>\n",
    "(Hint: try to use <strong>np.mean() / np.var()</strong> to see what happens. Then take a look at the functions <strong>np.nanmean() / np.nanvar()</strong>)\n"
   ]
  },
  {
   "cell_type": "code",
   "execution_count": 221,
   "metadata": {},
   "outputs": [],
   "source": [
    "###\n",
    "### YOUR CODE HERE (~ 3 lines)\n",
    "###"
   ]
  },
  {
   "cell_type": "markdown",
   "metadata": {},
   "source": [
    "## Operations on numpy arrays"
   ]
  },
  {
   "cell_type": "markdown",
   "metadata": {},
   "source": [
    "### Scalar-array operations"
   ]
  },
  {
   "cell_type": "code",
   "execution_count": 226,
   "metadata": {},
   "outputs": [],
   "source": []
  },
  {
   "cell_type": "code",
   "execution_count": null,
   "metadata": {},
   "outputs": [],
   "source": []
  },
  {
   "cell_type": "code",
   "execution_count": 35,
   "metadata": {},
   "outputs": [],
   "source": [
    "# All scalar-array algebraic operations are performed element-wise\n",
    "# Multiplication by a scalar"
   ]
  },
  {
   "cell_type": "code",
   "execution_count": 36,
   "metadata": {},
   "outputs": [],
   "source": [
    "# Addition of a scalar"
   ]
  },
  {
   "cell_type": "markdown",
   "metadata": {},
   "source": [
    "### Array-array operations"
   ]
  },
  {
   "cell_type": "code",
   "execution_count": 38,
   "metadata": {},
   "outputs": [],
   "source": [
    "print(mat1)\n",
    "print('------')\n",
    "print(mat2)"
   ]
  },
  {
   "cell_type": "code",
   "execution_count": 236,
   "metadata": {},
   "outputs": [],
   "source": [
    "# You can perform all usual linear algebra operations on numpy arrays"
   ]
  },
  {
   "cell_type": "code",
   "execution_count": 37,
   "metadata": {},
   "outputs": [],
   "source": [
    "# Elementwise multiplication"
   ]
  },
  {
   "cell_type": "code",
   "execution_count": 39,
   "metadata": {},
   "outputs": [],
   "source": [
    "# Elementwise addition"
   ]
  },
  {
   "cell_type": "markdown",
   "metadata": {},
   "source": [
    "<p><strong>Matrix Multiplication Memo :)</strong><p>\n",
    "    \n",
    "![Matrix Multiplication Memo](https://www.mathsisfun.com/algebra/images/matrix-multiply-a.svg)"
   ]
  },
  {
   "cell_type": "code",
   "execution_count": 40,
   "metadata": {},
   "outputs": [],
   "source": [
    "# Matrix multiplication "
   ]
  },
  {
   "cell_type": "code",
   "execution_count": 41,
   "metadata": {},
   "outputs": [],
   "source": [
    "# Alternative matmul"
   ]
  },
  {
   "cell_type": "code",
   "execution_count": 42,
   "metadata": {},
   "outputs": [],
   "source": [
    "# Matrix vector multiplication"
   ]
  },
  {
   "cell_type": "code",
   "execution_count": 43,
   "metadata": {},
   "outputs": [],
   "source": [
    "# Speed comparison between vectorized operations and pure Python loops"
   ]
  },
  {
   "cell_type": "code",
   "execution_count": 356,
   "metadata": {},
   "outputs": [
    {
     "name": "stdout",
     "output_type": "stream",
     "text": [
      "930 µs ± 17.9 µs per loop (mean ± std. dev. of 7 runs, 1000 loops each)\n"
     ]
    }
   ],
   "source": [
    "# We use the \"magic\" keyword time to to estimate running time of a cell\n",
    "# Dot product\n",
    "%timeit"
   ]
  },
  {
   "cell_type": "code",
   "execution_count": 357,
   "metadata": {},
   "outputs": [],
   "source": [
    "# Naive implementation of the dot product\n",
    "def dot_product(v1, v2):\n",
    "    \"\"\"Naive dot product implementation.\"\"\"\n",
    "    \n",
    "    p = 0\n",
    "    for i in range(len(v1)):\n",
    "        p += v1[i] * v2[i]\n",
    "    return p"
   ]
  },
  {
   "cell_type": "code",
   "execution_count": 358,
   "metadata": {},
   "outputs": [
    {
     "name": "stdout",
     "output_type": "stream",
     "text": [
      "488 ms ± 11.5 ms per loop (mean ± std. dev. of 7 runs, 1 loop each)\n"
     ]
    }
   ],
   "source": [
    "%timeit"
   ]
  },
  {
   "cell_type": "code",
   "execution_count": 359,
   "metadata": {},
   "outputs": [],
   "source": [
    "# We gain almost a factor of 500 increase in speed!"
   ]
  },
  {
   "cell_type": "code",
   "execution_count": 44,
   "metadata": {},
   "outputs": [],
   "source": [
    "## Estimate a covariance matrix\n",
    "\n",
    "# Define a matrix (each column represents a variable)\n",
    "# Each data point comes from ~ N(3, 1), so expect zero covariance and unit variance\n",
    "\n",
    "\n",
    "# Subtract mean from variables (center)\n",
    "\n",
    "\n",
    "# Compute cross-product of centered variables\n"
   ]
  },
  {
   "cell_type": "code",
   "execution_count": 45,
   "metadata": {},
   "outputs": [],
   "source": [
    "# Compare with built-in covariance\n",
    "# Note: need to instruct function that \n"
   ]
  },
  {
   "cell_type": "markdown",
   "metadata": {},
   "source": [
    "### Universal functions"
   ]
  },
  {
   "cell_type": "code",
   "execution_count": 46,
   "metadata": {},
   "outputs": [],
   "source": [
    "# Exponential, log, etc (elementwise)"
   ]
  },
  {
   "cell_type": "code",
   "execution_count": null,
   "metadata": {},
   "outputs": [],
   "source": []
  },
  {
   "cell_type": "code",
   "execution_count": null,
   "metadata": {},
   "outputs": [],
   "source": []
  },
  {
   "cell_type": "code",
   "execution_count": null,
   "metadata": {},
   "outputs": [],
   "source": []
  },
  {
   "cell_type": "markdown",
   "metadata": {},
   "source": [
    "## Exercise: OLS Regression with numpy\n",
    "\n",
    "<p>In this exercise, we will compute the parameters (weights) of an OLS regression using only numpy (and our linear algebra knowledge).</p>\n",
    "<p>The forward equation for OLS regression is given by:</p>\n",
    "$$\\hat{y} = \\mathbf{X}\\beta$$\n",
    "<p> where $\\mathbf{X}$ is an $N{\\times}M$ matrix of covariates, and $\\beta$ is a vector of parameters estimated from the data.\n",
    "<p>In OLS regression, we seek to minimize the MSE (mean squared error) criterion:</p>\n",
    "$$MSE(\\beta) = \\frac{1}N\\sum_{i=1}^N(y_i - \\hat{y_i})^2$$\n",
    "<p>which can be written in matrix form as</p>\n",
    "$$MSE(\\beta) = (y - \\mathbf{X}\\beta)^T(y - \\mathbf{X}\\beta)$$\n",
    "<p>setting the gradient of the MSE criterion to zero and solving for $y$, we obtain the following solution which minimizes the MSE:</p><br>\n",
    "$$\\beta^* = (\\mathbf{X}^T\\mathbf{X})^{-1}\\mathbf{X}^Ty$$\n",
    "\n",
    "<p>See this excellent post for a full derivation: https://eli.thegreenplace.net/2014/derivation-of-the-normal-equation-for-linear-regression</p>\n",
    "\n",
    "<p>Thus, in order to complete this exercise, you need to follow these steps:</p>\n",
    "1. Generate X (covariates) and y (outcome) by calling the <strong>simulate_ols_data()</strong> function\n",
    "2. Complete the <strong>ols(X, y)</strong> function by computing the solution to the normal equation\n",
    "3. Compare your best parameters with the parameters returned by the numpy function <strong>numpy.linalg.lstsq(X, y)</strong>\n",
    "4. Compute RMSE on the training data by completing the function <strong>rmse(y, y_hat)</strong>. The RMSE is given by:\n",
    "<br>\n",
    "<br>\n",
    "$$RMSE= \\sqrt{\\frac{1}N\\sum_{i=1}^N(y_i - \\hat{y_i})^2}$$"
   ]
  },
  {
   "cell_type": "code",
   "execution_count": 417,
   "metadata": {},
   "outputs": [],
   "source": [
    "def simulate_ols_data(N=100, M=3):\n",
    "    \"\"\"Function to simulate synthetic regression data.\"\"\"\n",
    "    \n",
    "    # Generate design matrix\n",
    "    X = np.random.randn(N, M)\n",
    "    # Add intercept to model\n",
    "    X = np.c_[np.ones(shape=(N, 1)), X]\n",
    "    # Generate true beta ~ N(0, 1)\n",
    "    beta_true = np.random.randn(M + 1)\n",
    "    # Compute noisy linear function\n",
    "    y = X @ beta_true + np.random.randn(N)\n",
    "    return X, y, beta_true"
   ]
  },
  {
   "cell_type": "code",
   "execution_count": 411,
   "metadata": {},
   "outputs": [],
   "source": [
    "def ols(X, y):\n",
    "    \"\"\"Function to compute the parameters of an OLS regression.\"\"\"\n",
    "    \n",
    "    ### YOUR CODE HERE (~ 1-2 lines)"
   ]
  },
  {
   "cell_type": "code",
   "execution_count": null,
   "metadata": {},
   "outputs": [],
   "source": [
    "def rmse(y, y_hat):\n",
    "    \"\"\"Function to compute the RMSE between predictions and outcomes.\"\"\"\n",
    "    \n",
    "    ### YOUR CODE HERE (~ 1-2 lines)"
   ]
  },
  {
   "cell_type": "code",
   "execution_count": 408,
   "metadata": {},
   "outputs": [],
   "source": [
    "# 1. Simulate regression data\n",
    "### YOUR CODE HERE (~ 1 line)\n",
    "# 2. Obtain best parameters\n",
    "### YOUR CODE HERE (~ 1 line)\n",
    "# 3. Obtain best parameters using numpy.linalg.lstsq\n",
    "### YOUR CODE HERE (~ 1 line)\n",
    "# 4. Compute RMSE on training data\n",
    "### YOUR CODE HERE (~ 1 line)"
   ]
  },
  {
   "cell_type": "markdown",
   "metadata": {},
   "source": [
    "# Plotting basics\n",
    "\n",
    "![Plot example](https://www.quantinsti.com/wp-content/uploads/2017/07/seaburn-1.png)\n",
    "\n",
    "<p><strong>Matplotlib</strong> is the most popular visualization library for Python. It was originally designed to have an interface similar to the MATLAB plotting commands. The following features of matplotlib make it a particularly good choice:</p>\n",
    "\n",
    "1. It is easy to use\n",
    "2. It gives you programmatic control over every aspect of a figure\n",
    "3. There are multiple sources and stack overflow threads out there\n",
    "4. It integrates nicely with the other libraries of the scientific computing stack (numpy, scipy, etc.) \n",
    "\n",
    "<p>You can always check out the matplotlib official site for documentation and more tutorials:</p>\n",
    "https://matplotlib.org/\n",
    "\n",
    "<p><strong>Seaborn</strong> is another Python data visualization library based on matplotlib. It provides a high-level interface for drawing attractive and informative statistical graphics. It is very useful for social science statistics!</p>\n",
    "\n",
    "<p>Of course, the seaborn official website has plenty of materials and examples as well:</p>\n",
    "https://seaborn.pydata.org/"
   ]
  },
  {
   "cell_type": "markdown",
   "metadata": {},
   "source": [
    "## Matplotlib plots"
   ]
  },
  {
   "cell_type": "code",
   "execution_count": 427,
   "metadata": {},
   "outputs": [],
   "source": [
    "# We need this magic command which ensures that plots are embedded into the notebook "
   ]
  },
  {
   "cell_type": "markdown",
   "metadata": {},
   "source": [
    "### Single plots\n",
    "<p>In this section, we will look at how to create single-axis plots (one or multiple curves on the same axis).</p>"
   ]
  },
  {
   "cell_type": "code",
   "execution_count": 47,
   "metadata": {},
   "outputs": [],
   "source": [
    "# Create some data"
   ]
  },
  {
   "cell_type": "markdown",
   "metadata": {},
   "source": [
    "#### Functional method"
   ]
  },
  {
   "cell_type": "code",
   "execution_count": 482,
   "metadata": {
    "scrolled": true
   },
   "outputs": [
    {
     "data": {
      "text/plain": [
       "[<matplotlib.lines.Line2D at 0x26eca2dd550>]"
      ]
     },
     "execution_count": 482,
     "metadata": {},
     "output_type": "execute_result"
    },
    {
     "data": {
      "image/png": "[encoded data removed]",
      "text/plain": [
       "<Figure size 432x288 with 1 Axes>"
      ]
     },
     "metadata": {},
     "output_type": "display_data"
    }
   ],
   "source": [
    "# Try setting the optional third argument.\n",
    "# You concatenate a color string with a line style string. \n",
    "# The default format string is 'b-', which is a solid blue line.\n",
    "# Try setting 'g--'\n",
    "\n",
    "# Feel free to play with the following keyword arguments\n",
    "# color\n",
    "# linewidth\n",
    "# linestyle\n",
    "# marker\n",
    "# alpha\n",
    "\n",
    "#plt.show() You need to call plt.show() if you are not within a jupyter notebook!\n",
    "\n",
    "\n",
    "# Add labels and title\n",
    "# plt.xlabel('$x^2$')\n",
    "# plt.ylabel('$x^2$')\n",
    "# plt.title('My first matplotlib plot!')\n",
    "\n",
    "# Try this as well\n",
    "#plt.axis('off')"
   ]
  },
  {
   "cell_type": "markdown",
   "metadata": {},
   "source": [
    "<strong>Multiple lines on same axis</strong>"
   ]
  },
  {
   "cell_type": "code",
   "execution_count": 610,
   "metadata": {},
   "outputs": [
    {
     "data": {
      "text/plain": [
       "[<matplotlib.lines.Line2D at 0x26ecf66b6a0>]"
      ]
     },
     "execution_count": 610,
     "metadata": {},
     "output_type": "execute_result"
    },
    {
     "data": {
      "image/png": "[encoded data removed]",
      "text/plain": [
       "<Figure size 432x288 with 1 Axes>"
      ]
     },
     "metadata": {},
     "output_type": "display_data"
    }
   ],
   "source": [
    "# Create some data\n",
    "x = np.linspace(0, 5, 10)\n",
    "y1 = x ** 2\n",
    "y2 = x ** 3\n",
    "y3 = 5 + 5 * x\n",
    "\n",
    "\n",
    "plt.plot(x, y1, 'r-', label='Mr. Red')\n",
    "plt.plot(x, y2, 'g--', label='Mr. Green')\n",
    "plt.plot(x, y3, 'b*', label='Mr. Blue')\n",
    "\n",
    "# Find out how to show the legend!\n",
    "\n",
    "# Alternatively\n",
    "# plt.plot(x, y1, 'r-', x, y2, 'g--', x, y3, 'b*')"
   ]
  },
  {
   "cell_type": "markdown",
   "metadata": {},
   "source": [
    "#### Object-oriented (OO) method"
   ]
  },
  {
   "cell_type": "markdown",
   "metadata": {},
   "source": [
    "<strong>Polynomial regression</strong>"
   ]
  },
  {
   "cell_type": "code",
   "execution_count": 55,
   "metadata": {},
   "outputs": [],
   "source": [
    "# Generate some data\n",
    "N = 100\n",
    "x = np.linspace(0, 5, N)\n",
    "# Data-generating process is not linear in the outcome!\n",
    "y = 3 + 1.5 * x + 2.5 * x**2 + np.random.randn(N)\n",
    "\n",
    "# Creates a figure and an axis instance\n",
    "# In a later cell, we will create some \n",
    "fig, ax = plt.subplots(1, 1, figsize=(10, 6))\n",
    "\n",
    "# Plot values on axis\n",
    "ax.plot(x, y, 'r^', alpha=.5, label='Data')\n",
    "\n",
    "# Get best line fit (while adding the intercept)\n",
    "x_intercept = np.c_[np.ones(len(x)), x]\n",
    "b = np.linalg.lstsq(x_intercept, y, rcond=None)[0]\n",
    "line = b[0] + b[1] * x\n",
    "\n",
    "# Render linear curve\n",
    "ax.plot(x, line, label='Best linear fit')\n",
    "\n",
    "# Get best polynomial fit (2-nd order)\n",
    "### YOUR CODE HERE (~ 3 lines)\n",
    "\n",
    "# Render polynomial curve\n",
    "### YOUR CODE HERE (~ 1 lines)\n",
    "\n",
    "# Annotate\n",
    "plt.legend()\n",
    "plt.xlabel('Predictor')\n",
    "plt.ylabel('Outcome')\n",
    "plt.title('Simple linear regression')"
   ]
  },
  {
   "cell_type": "markdown",
   "metadata": {},
   "source": [
    "<strong>Histograms</strong>"
   ]
  },
  {
   "cell_type": "code",
   "execution_count": 52,
   "metadata": {},
   "outputs": [],
   "source": [
    "# Create some data\n",
    "N = 500\n",
    "mu = 100  # mean of distribution\n",
    "sigma = 15  # standard deviation of distribution\n",
    "x = mu + sigma * np.random.randn(N)\n",
    "\n",
    "num_bins = 50\n",
    "\n",
    "fig, ax = plt.subplots(figsize=(10, 6))\n",
    "\n",
    "# Create histogram \n",
    "_, bins, _ = ax.hist(x, num_bins, density=True, alpha=.6)\n",
    "\n",
    "# Compute pdf on bin boundaries\n",
    "y = ((1 / (np.sqrt(2 * np.pi) * sigma)) *\n",
    "     np.exp(-0.5 * (1 / sigma * (bins - mu))**2))\n",
    "\n",
    "# Plot best-line fit\n",
    "ax.plot(bins, y, '--', linewidth=3)\n",
    "\n",
    "# Annotate\n",
    "ax.set_xlabel('IQ')\n",
    "ax.set_ylabel('pdf')\n",
    "ax.set_title('Histogram of IQ: $\\mu=100$, $\\sigma=15$')"
   ]
  },
  {
   "cell_type": "markdown",
   "metadata": {},
   "source": [
    "### Multiple plots\n",
    "<p>In this section, we will create multiple subplots (belonging to different axes).</p>"
   ]
  },
  {
   "cell_type": "code",
   "execution_count": 742,
   "metadata": {},
   "outputs": [],
   "source": [
    "def generate_hlm_data(n_part=9, n_times=20):\n",
    "    \"\"\"Simulates some data for multiple 'participants'\"\"\"\n",
    "    \n",
    "    # Create x\n",
    "    x = np.arange(0, n_times)\n",
    "    # Create linear term (multiply a repeated copy of x) with random coefficient\n",
    "    linear = np.tile(x, n_part).reshape(n_part, n_times) * np.random.rand(n_part, 1)\n",
    "    # Create quadratic term (multiply a repeated copy of squared x) with random coefficient\n",
    "    quadratic = np.tile(x, n_part).reshape(n_part, n_times)**2 * np.random.randint(0, 2, (n_part, 1)) * 0.1\n",
    "    # Generate noise\n",
    "    noise = np.random.randn(n_part, n_times)\n",
    "    # Simulate outcome\n",
    "    Y = linear + quadratic  + noise\n",
    "    return x, Y"
   ]
  },
  {
   "cell_type": "markdown",
   "metadata": {},
   "source": [
    "<p>Often, we have multiple measurements of a single variable across time and different participants. In such cases, we can employ hierarchical linear modeling techniques, treating 'time' as a level.</p>\n",
    "<p>In this example, we simply want to explore the data over our participants and see whether the measurement of each participant follow a similar trend.</p>\n",
    "<p><strong>We want to check this at a single glance!</strong></p>"
   ]
  },
  {
   "cell_type": "code",
   "execution_count": 739,
   "metadata": {},
   "outputs": [],
   "source": [
    "x, Y = generate_hlm_data()"
   ]
  },
  {
   "cell_type": "markdown",
   "metadata": {},
   "source": [
    "<p>First, let's learn how to create subplots!</p>\n",
    "<p>We already know that, simply need to change a single parameter in a function call!</p>"
   ]
  },
  {
   "cell_type": "code",
   "execution_count": 51,
   "metadata": {},
   "outputs": [],
   "source": [
    "# Create subplots with two rows and a single column"
   ]
  },
  {
   "cell_type": "code",
   "execution_count": 50,
   "metadata": {},
   "outputs": [],
   "source": [
    "# Filling the subplots\n",
    "\n",
    "# Automatically adjust spacing\n",
    "#fig.tight_layout()"
   ]
  },
  {
   "cell_type": "code",
   "execution_count": 49,
   "metadata": {},
   "outputs": [],
   "source": [
    "# Create subplots with two rows and two columns"
   ]
  },
  {
   "cell_type": "code",
   "execution_count": 683,
   "metadata": {},
   "outputs": [
    {
     "data": {
      "text/plain": [
       "array([[<matplotlib.axes._subplots.AxesSubplot object at 0x0000026ED002EDA0>,\n",
       "        <matplotlib.axes._subplots.AxesSubplot object at 0x0000026ED005B2B0>],\n",
       "       [<matplotlib.axes._subplots.AxesSubplot object at 0x0000026ED00828D0>,\n",
       "        <matplotlib.axes._subplots.AxesSubplot object at 0x0000026ED00AAF28>]],\n",
       "      dtype=object)"
      ]
     },
     "execution_count": 683,
     "metadata": {},
     "output_type": "execute_result"
    }
   ],
   "source": [
    "# Note, that our axis is now a multidimensional array\n",
    "# Thus, it can be indexed as a regular array"
   ]
  },
  {
   "cell_type": "code",
   "execution_count": 697,
   "metadata": {},
   "outputs": [],
   "source": [
    "# Usually, you will fill your subplots using a loop\n",
    "# A nice hack to use a single loop when iterating over a grid of axis is\n",
    "# To use the .flat method of a numpy array, which, surprise, surprise,\n",
    "# lets you iterate over an N-D array as if it were a 1-D array"
   ]
  },
  {
   "cell_type": "code",
   "execution_count": 48,
   "metadata": {},
   "outputs": [],
   "source": [
    "# Create subplots with two rows and two columns\n",
    "\n",
    "\n",
    "# Create x data\n",
    "# Loop through each axis (tracking the index)\n",
    "    \n",
    "    \n",
    "# Tweak spacing"
   ]
  },
  {
   "cell_type": "markdown",
   "metadata": {},
   "source": [
    "<p><strong>Now it's time to solve our exploratory problem!</strong> Pass the X and y values to the completed function <strong>plot_hlm(x, Y)</strong> to explore the trends of each participant.</p>"
   ]
  },
  {
   "cell_type": "code",
   "execution_count": 851,
   "metadata": {},
   "outputs": [],
   "source": [
    "def plot_hlm(x, Y, nrows=3, ncols=3):\n",
    "    \"\"\"Explore data of multiple participants over time.\"\"\"\n",
    "    \n",
    "    # Also, play with the styles, check out available: plt.style.available\n",
    "    plt.style.use('ggplot')\n",
    "    \n",
    "    # Create subplots with two rows and two columns\n",
    "    ### YOUR CODE HERE (~ 1 line)\n",
    "    \n",
    "\n",
    "    # Loop through each axis (tracking the index)\n",
    "    ### YOUR CODE HERE (~ 1 line)\n",
    "        \n",
    "        # Plot each function over the domain x\n",
    "        ### YOUR CODE HERE (~ 1 line)\n",
    "        \n",
    "        # Set title of subplot\n",
    "        ### YOUR CODE HERE (~ 1 line)\n",
    "        \n",
    "        # Compute weights of best-line fit (example below)\n",
    "        #b = np.linalg.lstsq(np.c_[np.ones(len(x)), x], Y[i], rcond=None)[0]\n",
    "        \n",
    "        # Plot best-line fit\n",
    "        ### YOUR CODE HERE (~ 1-2 lines)\n",
    "        \n",
    "\n",
    "    # Tweak spacing\n",
    "    ### YOUR CODE HERE (~ 1 line)"
   ]
  },
  {
   "cell_type": "code",
   "execution_count": 56,
   "metadata": {},
   "outputs": [],
   "source": [
    "#plot_hlm(x, Y)"
   ]
  },
  {
   "cell_type": "markdown",
   "metadata": {},
   "source": [
    "## Seaborn plots\n",
    "<p>Seaborn is a wrapper over matplotlib which is designed to produce beautiful plots with very little code. It is optimized to work very well with pandas dataframes, which we will tackle in the next notebook.</p>"
   ]
  },
  {
   "cell_type": "markdown",
   "metadata": {},
   "source": [
    "Let's load some personality dataset containing raw data from the International Personality Item Pool designed to measure Cattell's 16 personality factors. "
   ]
  },
  {
   "cell_type": "markdown",
   "metadata": {},
   "source": [
    "### Heatplots"
   ]
  },
  {
   "cell_type": "code",
   "execution_count": 2,
   "metadata": {},
   "outputs": [],
   "source": [
    "# Read in data"
   ]
  },
  {
   "cell_type": "code",
   "execution_count": 857,
   "metadata": {},
   "outputs": [],
   "source": [
    "# Get rid of last 6 columns"
   ]
  },
  {
   "cell_type": "code",
   "execution_count": 792,
   "metadata": {},
   "outputs": [],
   "source": [
    "# Get a view of the first factor (first 10 items)"
   ]
  },
  {
   "cell_type": "code",
   "execution_count": 793,
   "metadata": {},
   "outputs": [],
   "source": [
    "# Compute a correlation matrix"
   ]
  },
  {
   "cell_type": "code",
   "execution_count": 57,
   "metadata": {},
   "outputs": [],
   "source": [
    "# Visualize via heatplot"
   ]
  },
  {
   "cell_type": "code",
   "execution_count": 58,
   "metadata": {},
   "outputs": [],
   "source": [
    "# Make visualization pretty\n",
    "# Seaborn can be instructed to plot on a predifined matplotlib axis\n",
    "\n",
    "# Customize plot"
   ]
  },
  {
   "cell_type": "markdown",
   "metadata": {},
   "source": [
    "### Distribution plots"
   ]
  },
  {
   "cell_type": "code",
   "execution_count": 59,
   "metadata": {},
   "outputs": [],
   "source": [
    "# Generate data from a bivariat normal distribution"
   ]
  },
  {
   "cell_type": "code",
   "execution_count": 60,
   "metadata": {},
   "outputs": [],
   "source": [
    "# Scatterplot"
   ]
  },
  {
   "cell_type": "code",
   "execution_count": 61,
   "metadata": {},
   "outputs": [],
   "source": [
    "# KDE plot"
   ]
  },
  {
   "cell_type": "code",
   "execution_count": 62,
   "metadata": {},
   "outputs": [],
   "source": [
    "# Regression plot\n"
   ]
  },
  {
   "cell_type": "markdown",
   "metadata": {},
   "source": [
    "Just to illustrate the power and beauty of seaborn"
   ]
  },
  {
   "cell_type": "code",
   "execution_count": null,
   "metadata": {},
   "outputs": [],
   "source": []
  },
  {
   "cell_type": "markdown",
   "metadata": {},
   "source": [
    "# Final exercise: PCA\n",
    "\n",
    "![PCA meme](./img/pca.jpg)\n",
    "\n",
    "<p>PCA learns a representation of multidimensional data which has lower dimensionality than the original data.</p>\n",
    "<p>Furthermore is an orthogonal linear projection of the data, meaning that it decorrelates the dimensions of the learned representation.</p>\n",
    "<p>Consider a data matrix $\\mathbf{X}$.</p>\n",
    "<p>Suppose further that the data has been standardized (centered and scaled).</p>\n",
    "<p>The unbiased covariance matrix is given by:</p>\n",
    "$$Cov[\\mathbf{X}] = \\frac{1}{m - 1}\\mathbf{X}^T\\mathbf{X}$$\n",
    "<p>A popular variant of PCA performs an eigendecomposition of $\\mathbf{X}^T\\mathbf{X}$ defined by:</p>\n",
    "<br>\n",
    "$$Cov[\\mathbf{X}] = \\mathbf{V}\\mathbf{\\Lambda}\\mathbf{V}^T$$\n",
    "<p>where $\\mathbf{V}$ is the matrix of <em>eigenvectors</em> of $Cov[\\mathbf{X}]$ and $\\mathbf{\\Lambda}$ is a diagonal matrix of <em>eigenvalues</em>.</p> \n",
    "<p>(Note, that sometimes the decomposition is performed on the scatter matrix $\\mathbf{X}^T\\mathbf{X}$. This does not change the eigenvectors, but simply scales the eigenvalues.)</p>\n",
    "<p>In other words, we decompose the covariance matrix into a scale part (eigenvalues) and direction part (eigenvectors). The eigenvectors are the principle components of the $Cov[\\mathbf{X}]$.</p> \n",
    "<p>Eigenvectors determine orthogonal directions in feature space. Each component of the eigenvector encodes how each of the original dimension directions contributes to the eigenvector. The first eigenvector (first PC) encodes the direction of most variance, and so on.</p>\n",
    "<p>Eigenvalues represent how much of the original variance is captured (explained) in the direction of the corresponding eigenvector.</p>"
   ]
  },
  {
   "cell_type": "code",
   "execution_count": 861,
   "metadata": {},
   "outputs": [],
   "source": [
    "# Standardize data\n",
    "### \n",
    "### Your code here\n",
    "###"
   ]
  },
  {
   "cell_type": "code",
   "execution_count": 865,
   "metadata": {},
   "outputs": [],
   "source": [
    "# Compute covariance matrix\n",
    "### \n",
    "### Your code here\n",
    "###"
   ]
  },
  {
   "cell_type": "code",
   "execution_count": 63,
   "metadata": {},
   "outputs": [],
   "source": [
    "# Plot a heatmap of the covariance matrix\n",
    "# Observe nearby squares\n",
    "### \n",
    "### Your code here\n",
    "###"
   ]
  },
  {
   "cell_type": "code",
   "execution_count": 899,
   "metadata": {},
   "outputs": [],
   "source": [
    "# Perform an eigendecomposition\n",
    "### \n",
    "### Your code here\n",
    "###"
   ]
  },
  {
   "cell_type": "code",
   "execution_count": 900,
   "metadata": {},
   "outputs": [],
   "source": [
    "# Get indices of the values sorted in descending order ([::-1] - reverses an array)\n",
    "### \n",
    "### Your code here\n",
    "###"
   ]
  },
  {
   "cell_type": "code",
   "execution_count": 901,
   "metadata": {},
   "outputs": [],
   "source": [
    "# Sort eigenvalues and eigenvectors\n",
    "### \n",
    "### Your code here\n",
    "###"
   ]
  },
  {
   "cell_type": "code",
   "execution_count": 906,
   "metadata": {},
   "outputs": [
    {
     "data": {
      "text/plain": [
       "True"
      ]
     },
     "execution_count": 906,
     "metadata": {},
     "output_type": "execute_result"
    }
   ],
   "source": [
    "# Check reconstruction of th ecovariance matrix\n",
    "### \n",
    "### Your code here\n",
    "###"
   ]
  },
  {
   "cell_type": "code",
   "execution_count": 69,
   "metadata": {},
   "outputs": [],
   "source": [
    "# # Plot the first 40 eigenvalues\n",
    "# f, ax = plt.subplots(figsize=(15, 10))\n",
    "# ax.plot(np.arange(1, eig_values.shape[0]+1), eig_values / np.sum(eig_values), '-o')\n",
    "# ax.set_xlim([0, 40])\n",
    "# ax.set_xlabel('Eigenvalue index')\n",
    "# ax.set_ylabel('Proportion of explained variance')\n",
    "# ax.set_title('Eigenvalues plot')"
   ]
  },
  {
   "cell_type": "code",
   "execution_count": 64,
   "metadata": {},
   "outputs": [],
   "source": [
    "# Get labels of data points\n",
    "labels = open('data.csv', 'r').readline().split(';')[:-6]"
   ]
  },
  {
   "cell_type": "code",
   "execution_count": 65,
   "metadata": {},
   "outputs": [],
   "source": [
    "# Transform"
   ]
  },
  {
   "cell_type": "code",
   "execution_count": 66,
   "metadata": {},
   "outputs": [],
   "source": [
    "# Plot transformed"
   ]
  },
  {
   "cell_type": "code",
   "execution_count": 68,
   "metadata": {},
   "outputs": [],
   "source": [
    "# Sum of eigenvalues should be ca. 163"
   ]
  },
  {
   "cell_type": "code",
   "execution_count": null,
   "metadata": {},
   "outputs": [],
   "source": []
  }
 ],
 "metadata": {
  "kernelspec": {
   "display_name": "Python 3",
   "language": "python",
   "name": "python3"
  },
  "language_info": {
   "codemirror_mode": {
    "name": "ipython",
    "version": 3
   },
   "file_extension": ".py",
   "mimetype": "text/x-python",
   "name": "python",
   "nbconvert_exporter": "python",
   "pygments_lexer": "ipython3",
   "version": "3.7.1"
  },
  "toc": {
   "base_numbering": 1,
   "nav_menu": {
    "height": "421px",
    "width": "410px"
   },
   "number_sections": true,
   "sideBar": true,
   "skip_h1_title": false,
   "title_cell": "Table of Contents",
   "title_sidebar": "Contents",
   "toc_cell": true,
   "toc_position": {
    "height": "calc(100% - 180px)",
    "left": "10px",
    "top": "150px",
    "width": "307px"
   },
   "toc_section_display": true,
   "toc_window_display": true
  }
 },
 "nbformat": 4,
 "nbformat_minor": 2
}
