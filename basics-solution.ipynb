{
 "cells": [
  {
   "cell_type": "markdown",
   "metadata": {},
   "source": [
    "# Python basics\n",
    "\n",
    "In this notebook, you will get an introduction to Python and learn some basic techniques which are often used. The notebook, compared to the other ones, is probably not as structured as it could be. So, please use it as reference."
   ]
  },
  {
   "cell_type": "markdown",
   "metadata": {},
   "source": [
    "## Jupyter notebooks\n",
    "\n",
    "Jupyter notebooks as the one you currently look at are an extremely useful tool to structure your projects. You can decide whether to write text (markdown) or rather code. It is possible to render latex, load images and even incorporate small videos. Jupyter notebooks are comparable to R-Notebooks by even though both have similar capabilities we still prefer Jupyter."
   ]
  },
  {
   "cell_type": "markdown",
   "metadata": {},
   "source": [
    "Whether you use the mouse more often or not, these shortcuts might help you be more productive.\n",
    "\n",
    "The following list is more or less copied and pasted from:\n",
    "\n",
    "[https://www.dataquest.io/blog/jupyter-notebook-tips-tricks-shortcuts/](https://www.dataquest.io/blog/jupyter-notebook-tips-tricks-shortcuts/)\n",
    "\n",
    "\n",
    "* `Esc` will take you into command mode where you can navigate around your notebook with arrow keys.\n",
    "* While in command mode:\n",
    "    + `A` to insert a new cell above the current cell, `B` to insert a new cell below.\n",
    "    + `M` to change the current cell to Markdown, `Y` to change it back to code\n",
    "    + `D` + `D` (press the key twice) to delete the current cell\n",
    "    + `F` to find and replace on your code but not the outputs.\n",
    "    + `O` to toggle cell output\n",
    "    \n",
    "* `Enter` will take you from command mode back into edit mode for the given cell.\n",
    "* `Ctrl` + `Shift` + `-` will split the current cell into two from where your cursor is.\n",
    "   \n",
    "* Select Multiple Cells:\n",
    "    + `Shift` + `J` or `Shift` + `Down` selects the next sell in a downwards direction. You can also select sells in an upwards direction by using `Shift` + `K` or `Shift` + `Up`.\n",
    "\n",
    "Once cells are selected, you can then delete / copy / cut / paste / run them as a batch. This is helpful when you need to move parts of a notebook. You can also use `Shift` + `M` to merge multiple cells.\n"
   ]
  },
  {
   "cell_type": "markdown",
   "metadata": {},
   "source": [
    "## Importing modules\n",
    "\n",
    "Even though we won't work with any libraries in this notebook, we still show you how you would import them. "
   ]
  },
  {
   "cell_type": "markdown",
   "metadata": {},
   "source": [
    "In R, you write: `library(...)` to import a package. In Python, you write `import` to import a module. One key difference is that in R, all functions from the loaded package can be accessed by the name of the function. Normally in Python though, you import packages as an abbreviation and access all function within the module by first writing the abbreviation. An example:"
   ]
  },
  {
   "cell_type": "code",
   "execution_count": 31,
   "metadata": {
    "scrolled": true
   },
   "outputs": [
    {
     "data": {
      "text/plain": [
       "2.0"
      ]
     },
     "execution_count": 31,
     "metadata": {},
     "output_type": "execute_result"
    }
   ],
   "source": [
    "import numpy as np\n",
    "np.mean([1,2,3])"
   ]
  },
  {
   "cell_type": "markdown",
   "metadata": {},
   "source": [
    "If you want to only load a few functions from a module without having to write the name (or abbrevation) first, this is also possible:"
   ]
  },
  {
   "cell_type": "code",
   "execution_count": 32,
   "metadata": {},
   "outputs": [
    {
     "data": {
      "text/plain": [
       "2.0"
      ]
     },
     "execution_count": 32,
     "metadata": {},
     "output_type": "execute_result"
    }
   ],
   "source": [
    "from numpy import mean\n",
    "mean([1,2,3])"
   ]
  },
  {
   "cell_type": "markdown",
   "metadata": {},
   "source": [
    "## Variable assignment"
   ]
  },
  {
   "cell_type": "code",
   "execution_count": 33,
   "metadata": {},
   "outputs": [],
   "source": [
    "x = 3\n",
    "y = 4\n",
    "name = \"python\"\n",
    "version = '3.6'"
   ]
  },
  {
   "cell_type": "markdown",
   "metadata": {},
   "source": [
    "Yes, adding (concatenating) strings and multiplying strings with numbers (repeating) is possible..."
   ]
  },
  {
   "cell_type": "code",
   "execution_count": 34,
   "metadata": {},
   "outputs": [
    {
     "name": "stdout",
     "output_type": "stream",
     "text": [
      "7\n",
      "python3.6\n",
      "pythonpythonpythonpython\n"
     ]
    }
   ],
   "source": [
    "print(x + y)\n",
    "print(name + version)\n",
    "print(name * 4)"
   ]
  },
  {
   "cell_type": "markdown",
   "metadata": {},
   "source": [
    "Pretty printing using `format`..."
   ]
  },
  {
   "cell_type": "code",
   "execution_count": 35,
   "metadata": {},
   "outputs": [
    {
     "name": "stdout",
     "output_type": "stream",
     "text": [
      "First number: 3, second number: 4\n",
      "First string: python, second string: 3.6\n"
     ]
    }
   ],
   "source": [
    "print('First number: {}, second number: {}'.format(x,y))\n",
    "print('First string: {}, second string: {}'.format(name,version))"
   ]
  },
  {
   "cell_type": "markdown",
   "metadata": {},
   "source": [
    "Since Python version 3.6, it is also possible to use _formatted string literals_ or short _f-strings_"
   ]
  },
  {
   "cell_type": "code",
   "execution_count": 36,
   "metadata": {},
   "outputs": [
    {
     "data": {
      "text/plain": [
       "'First number 3, second number: 4'"
      ]
     },
     "execution_count": 36,
     "metadata": {},
     "output_type": "execute_result"
    }
   ],
   "source": [
    "f'First number {x}, second number: {y}'"
   ]
  },
  {
   "cell_type": "markdown",
   "metadata": {},
   "source": [
    "## <span style='color:blue'>Exercise time</span>"
   ]
  },
  {
   "cell_type": "markdown",
   "metadata": {},
   "source": [
    "Find a way to write the following sentence using only `*`, `+` and f-strings:    \n",
    "_I love SSSSSMMMMMiiiiiPPPPP_"
   ]
  },
  {
   "cell_type": "code",
   "execution_count": 37,
   "metadata": {},
   "outputs": [
    {
     "data": {
      "text/plain": [
       "'I love SSSSSMMMMMiiiiiPPPPP'"
      ]
     },
     "execution_count": 37,
     "metadata": {},
     "output_type": "execute_result"
    }
   ],
   "source": [
    "f\"I love {'S'*5 + 'M'*5 + 'i'*5 + 'P'*5}\""
   ]
  },
  {
   "cell_type": "markdown",
   "metadata": {},
   "source": [
    "## Data structures"
   ]
  },
  {
   "cell_type": "markdown",
   "metadata": {},
   "source": [
    "### Lists"
   ]
  },
  {
   "cell_type": "markdown",
   "metadata": {},
   "source": [
    "Lists are (more or less) what vectors are in R."
   ]
  },
  {
   "cell_type": "code",
   "execution_count": 38,
   "metadata": {},
   "outputs": [
    {
     "name": "stdout",
     "output_type": "stream",
     "text": [
      "['a', 'b', 'c', 'd']\n",
      "<class 'list'>\n",
      "The list contains 4 elements\n"
     ]
    }
   ],
   "source": [
    "my_list = ['a','b','c','d']\n",
    "print(my_list)\n",
    "print(type(my_list))\n",
    "print(f'The list contains {len(my_list)} elements')"
   ]
  },
  {
   "cell_type": "markdown",
   "metadata": {},
   "source": [
    "Indexing can sometimes be quite annoying if you are used to the R programming language..."
   ]
  },
  {
   "cell_type": "code",
   "execution_count": 39,
   "metadata": {},
   "outputs": [
    {
     "data": {
      "text/plain": [
       "'a'"
      ]
     },
     "execution_count": 39,
     "metadata": {},
     "output_type": "execute_result"
    }
   ],
   "source": [
    "my_list[0] # indexing starts at 0!!"
   ]
  },
  {
   "cell_type": "code",
   "execution_count": 40,
   "metadata": {},
   "outputs": [
    {
     "data": {
      "text/plain": [
       "['a', 'b']"
      ]
     },
     "execution_count": 40,
     "metadata": {},
     "output_type": "execute_result"
    }
   ],
   "source": [
    "my_list[0:2] # from 0 to 1"
   ]
  },
  {
   "cell_type": "code",
   "execution_count": 41,
   "metadata": {},
   "outputs": [
    {
     "data": {
      "text/plain": [
       "'d'"
      ]
     },
     "execution_count": 41,
     "metadata": {},
     "output_type": "execute_result"
    }
   ],
   "source": [
    "my_list[-1] # the last element"
   ]
  },
  {
   "cell_type": "code",
   "execution_count": 42,
   "metadata": {},
   "outputs": [
    {
     "data": {
      "text/plain": [
       "['a', 'c']"
      ]
     },
     "execution_count": 42,
     "metadata": {},
     "output_type": "execute_result"
    }
   ],
   "source": [
    "my_list[0::2] # every second element"
   ]
  },
  {
   "cell_type": "code",
   "execution_count": 43,
   "metadata": {},
   "outputs": [
    {
     "data": {
      "text/plain": [
       "['b', 'd']"
      ]
     },
     "execution_count": 43,
     "metadata": {},
     "output_type": "execute_result"
    }
   ],
   "source": [
    "my_list[1::2]"
   ]
  },
  {
   "cell_type": "code",
   "execution_count": 44,
   "metadata": {},
   "outputs": [],
   "source": [
    "my_list[1] = 'x' # overwriting"
   ]
  },
  {
   "cell_type": "code",
   "execution_count": 45,
   "metadata": {},
   "outputs": [
    {
     "data": {
      "text/plain": [
       "['a', 'x', 'c', 'd']"
      ]
     },
     "execution_count": 45,
     "metadata": {},
     "output_type": "execute_result"
    }
   ],
   "source": [
    "my_list"
   ]
  },
  {
   "cell_type": "code",
   "execution_count": 46,
   "metadata": {},
   "outputs": [],
   "source": [
    "my_list.append('y') # appending is in-place, no need for my_list = ....append()!"
   ]
  },
  {
   "cell_type": "code",
   "execution_count": 47,
   "metadata": {},
   "outputs": [
    {
     "data": {
      "text/plain": [
       "['a', 'x', 'c', 'd', 'y']"
      ]
     },
     "execution_count": 47,
     "metadata": {},
     "output_type": "execute_result"
    }
   ],
   "source": [
    "my_list"
   ]
  },
  {
   "cell_type": "code",
   "execution_count": 48,
   "metadata": {},
   "outputs": [
    {
     "data": {
      "text/plain": [
       "'d'"
      ]
     },
     "execution_count": 48,
     "metadata": {},
     "output_type": "execute_result"
    }
   ],
   "source": [
    "my_list.pop(3) # deleting at an index (also in-place)"
   ]
  },
  {
   "cell_type": "code",
   "execution_count": 49,
   "metadata": {},
   "outputs": [
    {
     "data": {
      "text/plain": [
       "['a', 'x', 'c', 'y']"
      ]
     },
     "execution_count": 49,
     "metadata": {},
     "output_type": "execute_result"
    }
   ],
   "source": [
    "my_list"
   ]
  },
  {
   "cell_type": "markdown",
   "metadata": {},
   "source": [
    "Generating lists"
   ]
  },
  {
   "cell_type": "code",
   "execution_count": 50,
   "metadata": {},
   "outputs": [
    {
     "data": {
      "text/plain": [
       "[1, 1, 1, 1, 1, 1, 1, 1, 1, 1]"
      ]
     },
     "execution_count": 50,
     "metadata": {},
     "output_type": "execute_result"
    }
   ],
   "source": [
    "[1] * 10"
   ]
  },
  {
   "cell_type": "code",
   "execution_count": 51,
   "metadata": {},
   "outputs": [
    {
     "data": {
      "text/plain": [
       "[0, 1, 2, 3, 4, 5, 6, 7, 8, 9]"
      ]
     },
     "execution_count": 51,
     "metadata": {},
     "output_type": "execute_result"
    }
   ],
   "source": [
    "list(range(10))"
   ]
  },
  {
   "cell_type": "markdown",
   "metadata": {},
   "source": [
    "### Tuples"
   ]
  },
  {
   "cell_type": "markdown",
   "metadata": {},
   "source": [
    "Tuples, other than lists, are immutable which means that you cannot change single elements of a tuple."
   ]
  },
  {
   "cell_type": "code",
   "execution_count": 52,
   "metadata": {},
   "outputs": [
    {
     "name": "stdout",
     "output_type": "stream",
     "text": [
      "('a', 'b', 'c')\n",
      "<class 'tuple'>\n",
      "The tuple contains 3 elements\n"
     ]
    }
   ],
   "source": [
    "my_tuple = ('a','b','c')\n",
    "print(my_tuple)\n",
    "print(type(my_tuple))\n",
    "print(f'The tuple contains {len(my_tuple)} elements')"
   ]
  },
  {
   "cell_type": "code",
   "execution_count": 53,
   "metadata": {},
   "outputs": [
    {
     "data": {
      "text/plain": [
       "'a'"
      ]
     },
     "execution_count": 53,
     "metadata": {},
     "output_type": "execute_result"
    }
   ],
   "source": [
    "my_tuple[0]"
   ]
  },
  {
   "cell_type": "code",
   "execution_count": 54,
   "metadata": {},
   "outputs": [],
   "source": [
    "# my_tuple[0] = 99 "
   ]
  },
  {
   "cell_type": "markdown",
   "metadata": {},
   "source": [
    "One useful function is `zip`: Merge two lists into a list of tuples."
   ]
  },
  {
   "cell_type": "code",
   "execution_count": 55,
   "metadata": {},
   "outputs": [
    {
     "name": "stdout",
     "output_type": "stream",
     "text": [
      "[(1, 4), (2, 5), (3, 6)]\n"
     ]
    }
   ],
   "source": [
    "l1 = [1,2,3]\n",
    "l2 = [4,5,6]\n",
    "l3 = list(zip(l1,l2))\n",
    "print(l3)\n"
   ]
  },
  {
   "cell_type": "markdown",
   "metadata": {},
   "source": [
    "### Dictionaries\n",
    "\n",
    "Dictionaries can hold key-value pairs. That is, a key is used as the index for the value that is stored."
   ]
  },
  {
   "cell_type": "code",
   "execution_count": 56,
   "metadata": {},
   "outputs": [
    {
     "name": "stdout",
     "output_type": "stream",
     "text": [
      "{'Workshop': 'Python', 'year': [2018, 2019]}\n",
      "<class 'dict'>\n"
     ]
    }
   ],
   "source": [
    "my_dict = {'Workshop': 'Python', 'year': [2018,2019]}\n",
    "print(my_dict)\n",
    "print(type(my_dict))"
   ]
  },
  {
   "cell_type": "code",
   "execution_count": 57,
   "metadata": {},
   "outputs": [
    {
     "name": "stdout",
     "output_type": "stream",
     "text": [
      "['Workshop', 'year']\n",
      "dict_values(['Python', [2018, 2019]])\n"
     ]
    }
   ],
   "source": [
    "print(list(my_dict.keys()))\n",
    "print(my_dict.values())"
   ]
  },
  {
   "cell_type": "code",
   "execution_count": 58,
   "metadata": {},
   "outputs": [
    {
     "name": "stdout",
     "output_type": "stream",
     "text": [
      "{'Workshop': 'R', 'year': [2018, 2019]}\n"
     ]
    }
   ],
   "source": [
    "my_dict['Workshop'] = 'R'\n",
    "print(my_dict)"
   ]
  },
  {
   "cell_type": "markdown",
   "metadata": {},
   "source": [
    "## <span style='color:blue'>Exercise time</span>"
   ]
  },
  {
   "cell_type": "markdown",
   "metadata": {},
   "source": [
    "This exercise is for heavy drinkers who want to find out more about certain cocktails that are stored in a data structure named cocktails. Answer the questions about the cocktails. You can type your code below each question.\n",
    "\n",
    "Tip: Search the internet if you are not sure how to answer a particular question. Research is a central part to programming ;)"
   ]
  },
  {
   "cell_type": "code",
   "execution_count": 59,
   "metadata": {},
   "outputs": [
    {
     "name": "stdout",
     "output_type": "stream",
     "text": [
      "<class 'list'>\n",
      "77\n",
      "Vesper\n",
      "The first ingredient is Gin\n",
      "The second ingredient is Vodka\n",
      "The third ingredient is Lillet Blonde\n",
      "One needs 0.75 cl\n",
      "One needs 6 cl, not 4cl\n"
     ]
    }
   ],
   "source": [
    "# We 'import' a variable from another file\n",
    "# using this syntax\n",
    "from cocktails import cocktails\n",
    "\n",
    "# You can take a look at the contents of cocktails\n",
    "#print(cocktails)\n",
    "\n",
    "# Looks nasty, isn't it?\n",
    "\n",
    "# First, get familiar with the structure of this giant object\n",
    "# What is the main data structure?\n",
    "print(type(cocktails))\n",
    "\n",
    "# How many cocktails does it contain?\n",
    "print(len(cocktails))\n",
    "\n",
    "# What is the first cocktail's name?\n",
    "print(cocktails[0]['name'])\n",
    "\n",
    "# What are the ingredients and how many are there?\n",
    "print(f\"The first ingredient is {cocktails[0]['ingredients'][0]['ingredient']}\")\n",
    "print(f\"The second ingredient is {cocktails[0]['ingredients'][1]['ingredient']}\")\n",
    "print(f\"The third ingredient is {cocktails[0]['ingredients'][2]['ingredient']}\")\n",
    "\n",
    "# What amount of Lillet Blonde does one need for this cocktail?\n",
    "print(f\"One needs {cocktails[0]['ingredients'][2]['amount']} cl\")\n",
    "\n",
    "\n",
    "# You have 4 cl of Gin, and want to prepare the cocktail.\n",
    "# Find out with one line of code, whether 4 cl of Gin is enough\n",
    "# for the cocktail (Hint: look at ingredients again)\n",
    "print(f\"One needs {cocktails[0]['ingredients'][0]['amount']} cl, not 4cl\")"
   ]
  },
  {
   "cell_type": "markdown",
   "metadata": {},
   "source": [
    "## Conversion\n",
    "\n",
    "Converting one type of object into another one is very commonly used so we show a few examples here"
   ]
  },
  {
   "cell_type": "code",
   "execution_count": 60,
   "metadata": {},
   "outputs": [],
   "source": [
    "my_float = 4.0\n",
    "my_string = '123'\n",
    "my_bool = False\n",
    "my_tup = (1,2)\n",
    "my_list = [4,5,6]\n",
    "my_dict = {'A': 1, 'B': 2}"
   ]
  },
  {
   "cell_type": "code",
   "execution_count": 61,
   "metadata": {},
   "outputs": [
    {
     "name": "stdout",
     "output_type": "stream",
     "text": [
      "4\n"
     ]
    }
   ],
   "source": [
    "print(int(my_float)) # from float to int"
   ]
  },
  {
   "cell_type": "code",
   "execution_count": 62,
   "metadata": {},
   "outputs": [
    {
     "name": "stdout",
     "output_type": "stream",
     "text": [
      "0\n"
     ]
    }
   ],
   "source": [
    "print(int(my_bool)) # from bool to int"
   ]
  },
  {
   "cell_type": "code",
   "execution_count": 63,
   "metadata": {},
   "outputs": [
    {
     "name": "stdout",
     "output_type": "stream",
     "text": [
      "4.0\n"
     ]
    }
   ],
   "source": [
    "print(str(my_float)) # from float to string"
   ]
  },
  {
   "cell_type": "code",
   "execution_count": 64,
   "metadata": {},
   "outputs": [
    {
     "name": "stdout",
     "output_type": "stream",
     "text": [
      "[1, 2]\n"
     ]
    }
   ],
   "source": [
    "print(list(my_tup)) # from tuple to list"
   ]
  },
  {
   "cell_type": "code",
   "execution_count": 65,
   "metadata": {},
   "outputs": [
    {
     "name": "stdout",
     "output_type": "stream",
     "text": [
      "['A', 'B']\n"
     ]
    }
   ],
   "source": [
    "print(list(my_dict)) # from dict to list (Notice we loose the actual values)"
   ]
  },
  {
   "cell_type": "code",
   "execution_count": 66,
   "metadata": {},
   "outputs": [
    {
     "name": "stdout",
     "output_type": "stream",
     "text": [
      "[1, 2]\n"
     ]
    }
   ],
   "source": [
    "print(list(my_dict.values()))"
   ]
  },
  {
   "cell_type": "code",
   "execution_count": null,
   "metadata": {},
   "outputs": [],
   "source": []
  },
  {
   "cell_type": "markdown",
   "metadata": {},
   "source": [
    "## Conditionals"
   ]
  },
  {
   "cell_type": "markdown",
   "metadata": {},
   "source": [
    "Everything in Python is True by default."
   ]
  },
  {
   "cell_type": "code",
   "execution_count": 67,
   "metadata": {},
   "outputs": [
    {
     "name": "stdout",
     "output_type": "stream",
     "text": [
      "True\n"
     ]
    }
   ],
   "source": [
    "number = 5\n",
    "if number: \n",
    "    print('True')"
   ]
  },
  {
   "cell_type": "code",
   "execution_count": 68,
   "metadata": {},
   "outputs": [
    {
     "name": "stdout",
     "output_type": "stream",
     "text": [
      "my_bool is True\n"
     ]
    }
   ],
   "source": [
    "my_bool = True\n",
    "if my_bool:\n",
    "    print('my_bool is',my_bool)"
   ]
  },
  {
   "cell_type": "code",
   "execution_count": 69,
   "metadata": {},
   "outputs": [
    {
     "name": "stdout",
     "output_type": "stream",
     "text": [
      "False\n"
     ]
    }
   ],
   "source": [
    "print(not my_bool)"
   ]
  },
  {
   "cell_type": "code",
   "execution_count": 70,
   "metadata": {},
   "outputs": [
    {
     "name": "stdout",
     "output_type": "stream",
     "text": [
      "not False = True\n"
     ]
    }
   ],
   "source": [
    "if not False:\n",
    "    print('not False = True')"
   ]
  },
  {
   "cell_type": "code",
   "execution_count": 71,
   "metadata": {},
   "outputs": [
    {
     "name": "stdout",
     "output_type": "stream",
     "text": [
      "The number is exactly 10\n"
     ]
    }
   ],
   "source": [
    "x = 10\n",
    "if x < 10:\n",
    "    print(\"The number is < 10\")\n",
    "elif x == 10:\n",
    "    print(\"The number is exactly 10\")\n",
    "else:\n",
    "    print(\"The number is > 10\")"
   ]
  },
  {
   "cell_type": "code",
   "execution_count": 72,
   "metadata": {},
   "outputs": [
    {
     "name": "stdout",
     "output_type": "stream",
     "text": [
      "Please specify a number: 10\n",
      "You entered an even number\n"
     ]
    }
   ],
   "source": [
    "number = int(input(\"Please specify a number: \"))\n",
    "if (number % 2) == 0:\n",
    "    print(\"You entered an even number\")\n",
    "else:\n",
    "    print(\"You entered an odd number\")"
   ]
  },
  {
   "cell_type": "markdown",
   "metadata": {},
   "source": [
    "## for-loops"
   ]
  },
  {
   "cell_type": "code",
   "execution_count": 73,
   "metadata": {},
   "outputs": [
    {
     "name": "stdout",
     "output_type": "stream",
     "text": [
      "Python\n",
      "R\n",
      "Matlab\n"
     ]
    }
   ],
   "source": [
    "lang = [\"Python\",\"R\",\"Matlab\"]\n",
    "for language in lang:\n",
    "    print(language)"
   ]
  },
  {
   "cell_type": "code",
   "execution_count": 74,
   "metadata": {},
   "outputs": [
    {
     "name": "stdout",
     "output_type": "stream",
     "text": [
      "Result of 0 * 5 = 0\n",
      "Result of 1 * 5 = 5\n",
      "Result of 2 * 5 = 10\n",
      "Result of 3 * 5 = 15\n",
      "Result of 4 * 5 = 20\n",
      "Result of 5 * 5 = 25\n",
      "Result of 6 * 5 = 30\n",
      "Result of 7 * 5 = 35\n"
     ]
    }
   ],
   "source": [
    "alist = [0,1,2,3,4,5,6,7]\n",
    "for number in alist:\n",
    "    result = number * 5\n",
    "    print(f\"Result of {number} * 5 = {result}\")"
   ]
  },
  {
   "cell_type": "code",
   "execution_count": 75,
   "metadata": {},
   "outputs": [
    {
     "name": "stdout",
     "output_type": "stream",
     "text": [
      "0\n",
      "1\n",
      "2\n",
      "3\n",
      "4\n",
      "5\n",
      "6\n",
      "7\n",
      "8\n",
      "9\n"
     ]
    }
   ],
   "source": [
    "for number in range(10):\n",
    "    print(number)"
   ]
  },
  {
   "cell_type": "code",
   "execution_count": 76,
   "metadata": {},
   "outputs": [
    {
     "name": "stdout",
     "output_type": "stream",
     "text": [
      "[0, 1, 2, 3, 4, 5, 6, 7, 8, 9]\n"
     ]
    }
   ],
   "source": [
    "myList = []\n",
    "for zahl in range(10):\n",
    "    myList.append(zahl)\n",
    "\n",
    "print(myList)"
   ]
  },
  {
   "cell_type": "markdown",
   "metadata": {},
   "source": [
    "Sometimes it is necessary to iterate over the elements of a list and extract both element and current index. This can be done with `enumerate`."
   ]
  },
  {
   "cell_type": "code",
   "execution_count": 77,
   "metadata": {},
   "outputs": [
    {
     "name": "stdout",
     "output_type": "stream",
     "text": [
      "Word: A at index: 0\n",
      "Word: B at index: 1\n",
      "Word: C at index: 2\n"
     ]
    }
   ],
   "source": [
    "for i, letter in enumerate(['A','B','C']):\n",
    "    print(f'Word: {letter} at index: {i}')"
   ]
  },
  {
   "cell_type": "markdown",
   "metadata": {},
   "source": [
    "Iterating over strings is not a problem:"
   ]
  },
  {
   "cell_type": "code",
   "execution_count": 78,
   "metadata": {},
   "outputs": [
    {
     "name": "stdout",
     "output_type": "stream",
     "text": [
      "S\n",
      "M\n",
      "i\n",
      "P\n"
     ]
    }
   ],
   "source": [
    "string = 'SMiP'\n",
    "for digit in string:\n",
    "    print(digit)"
   ]
  },
  {
   "cell_type": "code",
   "execution_count": 79,
   "metadata": {},
   "outputs": [
    {
     "name": "stdout",
     "output_type": "stream",
     "text": [
      "A 1\n",
      "B 2\n",
      "C 3\n"
     ]
    }
   ],
   "source": [
    "letters = ['A','B','C']\n",
    "numbers = [1,2,3]\n",
    "for word, number in zip(letters,numbers):\n",
    "    print(word,number)"
   ]
  },
  {
   "cell_type": "code",
   "execution_count": 80,
   "metadata": {},
   "outputs": [
    {
     "name": "stdout",
     "output_type": "stream",
     "text": [
      "1\n"
     ]
    }
   ],
   "source": [
    "x = (1,2)\n",
    "q, k = x\n",
    "print(q)"
   ]
  },
  {
   "cell_type": "markdown",
   "metadata": {},
   "source": [
    "### List-comprehension\n",
    "\n",
    "Writing for loops is cumbersome and can be shortened by using list comprehensions"
   ]
  },
  {
   "cell_type": "code",
   "execution_count": 81,
   "metadata": {},
   "outputs": [
    {
     "name": "stdout",
     "output_type": "stream",
     "text": [
      "[9, 12, 15, 18]\n"
     ]
    }
   ],
   "source": [
    "alist = [3,4,5,6]\n",
    "alist2 = []\n",
    "for item in alist:\n",
    "    alist2.append(item * 3)\n",
    "    \n",
    "print(alist2)"
   ]
  },
  {
   "cell_type": "markdown",
   "metadata": {},
   "source": [
    "Much nicer using list comprehension..."
   ]
  },
  {
   "cell_type": "code",
   "execution_count": 82,
   "metadata": {},
   "outputs": [
    {
     "data": {
      "text/plain": [
       "[9, 12, 15, 18]"
      ]
     },
     "execution_count": 82,
     "metadata": {},
     "output_type": "execute_result"
    }
   ],
   "source": [
    "alist2 = [item * 3 for item in alist]\n",
    "alist2"
   ]
  },
  {
   "cell_type": "markdown",
   "metadata": {},
   "source": [
    "## Functions\n",
    "\n",
    "Every function should contain a doc-string, which is a multiline comment ('''...''') with a short explanation of what the function does (and what the arguments stand for). "
   ]
  },
  {
   "cell_type": "code",
   "execution_count": 83,
   "metadata": {},
   "outputs": [],
   "source": [
    "def add(a,b):\n",
    "    '''\n",
    "    Add a and b.\n",
    "    a = scalar\n",
    "    b = scalar.\n",
    "    '''\n",
    "    return a + b\n"
   ]
  },
  {
   "cell_type": "code",
   "execution_count": 84,
   "metadata": {},
   "outputs": [
    {
     "name": "stdout",
     "output_type": "stream",
     "text": [
      "8\n"
     ]
    }
   ],
   "source": [
    "print(add(3,5))"
   ]
  },
  {
   "cell_type": "code",
   "execution_count": 85,
   "metadata": {},
   "outputs": [
    {
     "name": "stdout",
     "output_type": "stream",
     "text": [
      "8\n"
     ]
    }
   ],
   "source": [
    "result = add(3,5) \n",
    "print(result)"
   ]
  },
  {
   "cell_type": "markdown",
   "metadata": {},
   "source": [
    "In Python, it is important to note that variables are passed by reference. So in the example below, the original list is changed by calling the function."
   ]
  },
  {
   "cell_type": "code",
   "execution_count": 86,
   "metadata": {},
   "outputs": [],
   "source": [
    "alist = []\n",
    "def func(some_list):\n",
    "    some_list.append('Text')"
   ]
  },
  {
   "cell_type": "code",
   "execution_count": 87,
   "metadata": {},
   "outputs": [
    {
     "name": "stdout",
     "output_type": "stream",
     "text": [
      "['Text']\n"
     ]
    }
   ],
   "source": [
    "func(alist)\n",
    "print(alist)"
   ]
  },
  {
   "cell_type": "markdown",
   "metadata": {},
   "source": [
    "You can use default arguments, too:"
   ]
  },
  {
   "cell_type": "code",
   "execution_count": 88,
   "metadata": {},
   "outputs": [],
   "source": [
    "def add(a,b,c=3):\n",
    "    ''' Add a, b and c.'''\n",
    "    return a + b + c"
   ]
  },
  {
   "cell_type": "code",
   "execution_count": 89,
   "metadata": {},
   "outputs": [
    {
     "name": "stdout",
     "output_type": "stream",
     "text": [
      "10\n",
      "11\n"
     ]
    }
   ],
   "source": [
    "print(add(a=3,b=4))\n",
    "print(add(a=3,c=5,b=3))"
   ]
  },
  {
   "cell_type": "markdown",
   "metadata": {},
   "source": [
    "We can define function with unknown number of arguments..."
   ]
  },
  {
   "cell_type": "code",
   "execution_count": 90,
   "metadata": {},
   "outputs": [],
   "source": [
    "def func(a,*args):\n",
    "    out = []\n",
    "    for x in args:\n",
    "        out.append(x*3)\n",
    "    return out"
   ]
  },
  {
   "cell_type": "code",
   "execution_count": 91,
   "metadata": {},
   "outputs": [
    {
     "name": "stdout",
     "output_type": "stream",
     "text": [
      "[12, 15, 18]\n"
     ]
    }
   ],
   "source": [
    "result = func(3,4,5,6)\n",
    "print(result)"
   ]
  },
  {
   "cell_type": "markdown",
   "metadata": {},
   "source": [
    "Alternatively, you can unpack a list or tuple..."
   ]
  },
  {
   "cell_type": "code",
   "execution_count": 92,
   "metadata": {},
   "outputs": [
    {
     "name": "stdout",
     "output_type": "stream",
     "text": [
      "[12, 15, 18]\n",
      "[12, 15, 18]\n"
     ]
    }
   ],
   "source": [
    "args = [4,5,6]\n",
    "args2 = (4,5,6)\n",
    "print(func(3,*args)) # func(3,4,5,6)\n",
    "print(func(3,*args2)) # func(3,4,5,6)"
   ]
  },
  {
   "cell_type": "code",
   "execution_count": 93,
   "metadata": {},
   "outputs": [],
   "source": [
    "def func(a,b,c):\n",
    "    pass"
   ]
  },
  {
   "cell_type": "code",
   "execution_count": 94,
   "metadata": {},
   "outputs": [],
   "source": [
    "test = [2,3]\n",
    "func(3,*test) # func(a=3,b=2,c=3)"
   ]
  },
  {
   "cell_type": "markdown",
   "metadata": {},
   "source": [
    "## <span style='color:blue'>Exercise time</span>"
   ]
  },
  {
   "cell_type": "markdown",
   "metadata": {},
   "source": [
    "Generate a list with even numbers starting from 2 and ending with 20. `[2,4,6,...,20]`. Use `range` and index the right values."
   ]
  },
  {
   "cell_type": "code",
   "execution_count": 95,
   "metadata": {},
   "outputs": [
    {
     "data": {
      "text/plain": [
       "[2, 4, 6, 8, 10, 12, 14, 16, 18, 20]"
      ]
     },
     "execution_count": 95,
     "metadata": {},
     "output_type": "execute_result"
    }
   ],
   "source": [
    "list(range(22)[2::2])"
   ]
  },
  {
   "cell_type": "markdown",
   "metadata": {},
   "source": [
    "Generate the same list but this time using list comprehension and modulo (%)."
   ]
  },
  {
   "cell_type": "code",
   "execution_count": 96,
   "metadata": {},
   "outputs": [
    {
     "data": {
      "text/plain": [
       "[2, 4, 6, 8, 10, 12, 14, 16, 18, 20]"
      ]
     },
     "execution_count": 96,
     "metadata": {},
     "output_type": "execute_result"
    }
   ],
   "source": [
    "[x for x in range(2,21) if x%2==0]"
   ]
  },
  {
   "cell_type": "markdown",
   "metadata": {},
   "source": [
    "Implement a function named `power` that takes as input a base and an exponent and returns the base raised to the exponent. If only a number is given, the number should be raised to the power of 2."
   ]
  },
  {
   "cell_type": "code",
   "execution_count": 97,
   "metadata": {},
   "outputs": [],
   "source": [
    "def power(base, exponent = 2):\n",
    "    return base ** exponent"
   ]
  },
  {
   "cell_type": "code",
   "execution_count": 98,
   "metadata": {},
   "outputs": [
    {
     "name": "stdout",
     "output_type": "stream",
     "text": [
      "My result: 81\n"
     ]
    }
   ],
   "source": [
    "# uncomment to check your solution\n",
    "print('My result:', power(3,4))"
   ]
  },
  {
   "cell_type": "markdown",
   "metadata": {},
   "source": [
    "Expected result: 81"
   ]
  },
  {
   "cell_type": "markdown",
   "metadata": {},
   "source": [
    "Write a function named `numToList` that takes a number as input and outputs a list where each element corresponds to a digit of the number. For example, when passing `123` as input, a list containing `[1, 2, 3]` should be returned. Implement it using a for loop.\n",
    "\n",
    "Hint: Convert the input to a string using `str()` before iterating."
   ]
  },
  {
   "cell_type": "code",
   "execution_count": 99,
   "metadata": {},
   "outputs": [],
   "source": [
    "def numToList(number):\n",
    "    List = []\n",
    "    for digit in str(number):\n",
    "        List.append(int(digit))\n",
    "    return List"
   ]
  },
  {
   "cell_type": "code",
   "execution_count": 100,
   "metadata": {},
   "outputs": [
    {
     "name": "stdout",
     "output_type": "stream",
     "text": [
      "My result: [4, 8, 2, 7]\n"
     ]
    }
   ],
   "source": [
    "# uncomment to check your solution\n",
    "print('My result:', numToList(4827))"
   ]
  },
  {
   "cell_type": "markdown",
   "metadata": {},
   "source": [
    "Expected result: [4, 8, 2, 7]"
   ]
  },
  {
   "cell_type": "markdown",
   "metadata": {},
   "source": [
    "## Reading files\n",
    "\n",
    "In order to read from a file, we need to perform the following steps:\n",
    "1. Open the file\n",
    "2. Read contents ans save them in a data structure\n",
    "3. Close the file\n",
    "\n",
    "In Python a file can be opened with the `open()` statement which takes two parameters `open(filename, 'mode')`. The first parameter is a string with the name of the file and the second specifies the mode in which the file should be opened. To read from an opened file, we can simply call a `read()` method on the opened file object. The following modes are available when opening a file:\n",
    "\n",
    "| Mode       | Description           | \n",
    "| :--------------: |:----------------------|\n",
    "| 'r'               | file can only be **read** |\n",
    "| 'w'               | It can only be **written** to this file |\n",
    "| 'a'               | Information can be **appendend** to this file |\n",
    "| 'r+'               | file can be **read** from and **written** to |\n",
    "\n",
    "Here is an example of opening a file, reading from it and closing it again:"
   ]
  },
  {
   "cell_type": "code",
   "execution_count": 101,
   "metadata": {},
   "outputs": [
    {
     "name": "stdout",
     "output_type": "stream",
     "text": [
      "I am a simple file with some text.\n",
      "I exist to be opened, read from,\n",
      "and closed again. That's it.\n",
      "\n"
     ]
    }
   ],
   "source": [
    "file = open('data/my_file.txt','r')\n",
    "content = file.read()\n",
    "file.close()\n",
    "print(content)"
   ]
  },
  {
   "cell_type": "markdown",
   "metadata": {},
   "source": [
    "Even though the just illustrated example works just fine, it is better to use a `with` statement when opening files. We will not go in to much detail why this is the case, but it has to do with the fact that it ensures that the file is properly opened and closed after reading from the file is over."
   ]
  },
  {
   "cell_type": "code",
   "execution_count": 102,
   "metadata": {},
   "outputs": [
    {
     "name": "stdout",
     "output_type": "stream",
     "text": [
      "I am a simple file with some text.\n",
      "I exist to be opened, read from,\n",
      "and closed again. That's it.\n",
      "\n"
     ]
    }
   ],
   "source": [
    "with open('data/my_file.txt', 'r') as file:\n",
    "    content = file.read()\n",
    "\n",
    "print(content)"
   ]
  },
  {
   "cell_type": "markdown",
   "metadata": {},
   "source": [
    "What if we wanted to store each word of a file as a list, we need to iterate over each line of the file. "
   ]
  },
  {
   "cell_type": "code",
   "execution_count": 103,
   "metadata": {},
   "outputs": [
    {
     "name": "stdout",
     "output_type": "stream",
     "text": [
      "['I', 'am', 'a', 'string.']\n"
     ]
    }
   ],
   "source": [
    "string = 'I am a string.'\n",
    "print(string.split())"
   ]
  },
  {
   "cell_type": "code",
   "execution_count": 104,
   "metadata": {},
   "outputs": [
    {
     "name": "stdout",
     "output_type": "stream",
     "text": [
      "['I', 'am', 'a', 'simple', 'file', 'with', 'some', 'text.', 'I', 'exist', 'to', 'be', 'opened,', 'read', 'from,', 'and', 'closed', 'again.', \"That's\", 'it.']\n"
     ]
    }
   ],
   "source": [
    "word_list = []\n",
    "with open('data/my_file.txt', 'r') as file:\n",
    "    for line in file:\n",
    "        for word in line.split():\n",
    "            word_list.append(word)\n",
    "            \n",
    "print(word_list)"
   ]
  },
  {
   "cell_type": "markdown",
   "metadata": {},
   "source": [
    "## Writing files\n",
    "\n",
    "Analogous to reading from files, we can also write information to a file using the `w` mode.\n",
    "Here is an exmaple of how we would properly write information stored in a list to a text-file:"
   ]
  },
  {
   "cell_type": "code",
   "execution_count": 105,
   "metadata": {},
   "outputs": [],
   "source": [
    "text = 'I am here to demonstrate \\nhow to write strings to a file.'\n",
    "with open('data/test_file.txt', 'w') as file:\n",
    "    file.write(text)"
   ]
  }
 ],
 "metadata": {
  "kernelspec": {
   "display_name": "Python 3",
   "language": "python",
   "name": "python3"
  },
  "language_info": {
   "codemirror_mode": {
    "name": "ipython",
    "version": 3
   },
   "file_extension": ".py",
   "mimetype": "text/x-python",
   "name": "python",
   "nbconvert_exporter": "python",
   "pygments_lexer": "ipython3",
   "version": "3.6.8"
  },
  "toc": {
   "base_numbering": 1,
   "nav_menu": {},
   "number_sections": true,
   "sideBar": true,
   "skip_h1_title": false,
   "title_cell": "Table of Contents",
   "title_sidebar": "Contents",
   "toc_cell": false,
   "toc_position": {},
   "toc_section_display": true,
   "toc_window_display": true
  }
 },
 "nbformat": 4,
 "nbformat_minor": 2
}
